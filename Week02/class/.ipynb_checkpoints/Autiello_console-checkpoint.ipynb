{
 "cells": [
  {
   "cell_type": "code",
   "execution_count": 4,
   "metadata": {
    "pycharm": {
     "name": "#%%\n"
    }
   },
   "outputs": [
    {
     "ename": "ModuleNotFoundError",
     "evalue": "No module named 'pyyaml'",
     "output_type": "error",
     "traceback": [
      "\u001b[1;31m---------------------------------------------------------------------------\u001b[0m",
      "\u001b[1;31mModuleNotFoundError\u001b[0m                       Traceback (most recent call last)",
      "Input \u001b[1;32mIn [4]\u001b[0m, in \u001b[0;36m<module>\u001b[1;34m\u001b[0m\n\u001b[0;32m      1\u001b[0m \u001b[38;5;66;03m# imports\u001b[39;00m\n\u001b[1;32m----> 2\u001b[0m \u001b[38;5;28;01mimport\u001b[39;00m \u001b[38;5;21;01mpyyaml\u001b[39;00m\n\u001b[0;32m      3\u001b[0m \u001b[38;5;28;01mfrom\u001b[39;00m \u001b[38;5;21;01mAutiello_syslog_ssh\u001b[39;00m \u001b[38;5;28;01mimport\u001b[39;00m ssh_fail\n\u001b[0;32m      4\u001b[0m \u001b[38;5;28;01mfrom\u001b[39;00m \u001b[38;5;21;01mAutiello_syslog_su\u001b[39;00m \u001b[38;5;28;01mimport\u001b[39;00m su_open\n",
      "\u001b[1;31mModuleNotFoundError\u001b[0m: No module named 'pyyaml'"
     ]
    }
   ],
   "source": [
    "# imports\n",
    "import pyyaml\n",
    "from Autiello_syslog_ssh import ssh_fail\n",
    "from Autiello_syslog_su import su_open\n",
    "from Autiello_syslog_ftp_connection import ftp_connect\n",
    "from Autiello_syslog_klogind_failed_auth import klogind_failed\n",
    "from Autiello_syslog_authenticated_users import authenticated_ssh_users\n",
    "# import importlib\n",
    "# reload imports if needed\n",
    "# importlib.reload()"
   ]
  },
  {
   "cell_type": "markdown",
   "metadata": {},
   "source": [
    "# Review System Logs"
   ]
  },
  {
   "cell_type": "markdown",
   "metadata": {},
   "source": [
    "### SSH Authentication Failure Domains"
   ]
  },
  {
   "cell_type": "code",
   "execution_count": 13,
   "metadata": {
    "pycharm": {
     "name": "#%%\n"
    }
   },
   "outputs": [
    {
     "name": "stdout",
     "output_type": "stream",
     "text": [
      "rhost=218.16.122.48\n",
      "rhost=adsl-70-242-75-179.dsl.ksc2mo.swbell.net\n",
      "rhost=csnsu.nsuok.edu\n",
      "rhost=211.214.161.141\n",
      "rhost=202-132-40-29.adsl.ttn.net\n",
      "rhost=zummit.com\n",
      "rhost=211-76-104-65.ebix.net.tw\n",
      "rhost=211.46.224.253\n",
      "rhost=biblioteka.wsi.edu.pl\n",
      "rhost=217.60.212.66\n",
      "rhost=195.129.24.210\n",
      "rhost=218.22.3.51\n",
      "rhost=218.188.2.4\n",
      "rhost=68.143.156.89.nw.nuvox.net\n",
      "rhost=c51471f2c.cable.wanadoo.nl\n",
      "rhost=h64-187-1-131.gtconnect.net\n",
      "rhost=85.44.47.166\n",
      "rhost=n219076184117.netvigator.com\n",
      "rhost=massive.merukuru.org\n",
      "rhost=202.181.236.180\n",
      "rhost=c9063558.virtua.com.br\n",
      "rhost=211.9.58.217\n",
      "rhost=211.115.206.155\n",
      "rhost=061092085098.ctinets.com\n",
      "rhost=150.183.249.110\n",
      "rhost=61.53.154.93\n",
      "rhost=211.137.205.253\n",
      "rhost=207.243.167.114\n",
      "rhost=60.30.224.116\n",
      "rhost=220-135-151-1.hinet-ip.hinet.net\n",
      "rhost=218.55.234.102\n",
      "rhost=212.0.132.20\n",
      "rhost=209.152.168.249\n",
      "rhost=62-192-102-94.dsl.easynet.nl\n",
      "rhost=ip-216-69-169-168.ip.secureserver.net\n",
      "rhost=210.76.59.29\n",
      "rhost=65.166.159.14\n",
      "rhost=210.229.150.228\n",
      "rhost=220.117.241.87\n",
      "rhost=200.60.37.201\n",
      "rhost=p15105218.pureserver.info\n",
      "rhost=troi.bluesky-technologies.com\n",
      "rhost=82.77.200.128\n",
      "rhost=61-220-159-99.hinet-ip.hinet.net\n",
      "rhost=193.110.106.11\n",
      "rhost=203.251.225.101\n",
      "rhost=d211-116-254-214.rev.krline.net\n"
     ]
    }
   ],
   "source": [
    "ssh_fail(\"../../logs/linux_2k.log\", ['sshd\\(pam_unix\\).*authentication failure.*'])"
   ]
  },
  {
   "cell_type": "markdown",
   "metadata": {
    "pycharm": {
     "name": "#%% md\n"
    }
   },
   "source": [
    "### SU Open"
   ]
  },
  {
   "cell_type": "code",
   "execution_count": 14,
   "metadata": {
    "pycharm": {
     "name": "#%%\n"
    }
   },
   "outputs": [
    {
     "name": "stdout",
     "output_type": "stream",
     "text": [
      "news\n",
      "cyrus\n"
     ]
    }
   ],
   "source": [
    "su_open(\"../../logs/linux_2k.log\", ['su\\(pam_unix\\).*session closed for user.*'])"
   ]
  },
  {
   "cell_type": "markdown",
   "metadata": {
    "pycharm": {
     "name": "#%% md\n"
    }
   },
   "source": [
    "### FTP connections"
   ]
  },
  {
   "cell_type": "code",
   "execution_count": 15,
   "metadata": {
    "pycharm": {
     "name": "#%%\n"
    }
   },
   "outputs": [
    {
     "name": "stdout",
     "output_type": "stream",
     "text": [
      "210.223.97.117\n",
      "82.252.162.81\n",
      "211.167.68.59\n",
      "211.72.151.162\n",
      "218.146.61.230\n",
      "82.68.222.194\n",
      "24.54.76.216\n",
      "216.12.111.241\n",
      "81.171.220.226\n",
      "210.118.170.95\n",
      "208.62.55.75\n",
      "207.30.238.8\n",
      "222.33.90.199\n",
      "218.38.58.3\n",
      "217.187.83.50\n",
      "203.101.45.59\n",
      "206.196.21.129\n",
      "63.197.98.106\n",
      "210.245.165.136\n",
      "211.72.2.106\n",
      "212.65.68.82\n",
      "211.57.88.250\n",
      "67.95.49.172\n",
      "83.116.207.11\n",
      "202.82.200.188\n",
      "84.102.20.2\n",
      "206.47.209.10\n",
      "172.181.208.156\n",
      "61.74.96.178\n",
      "82.83.227.67\n",
      "211.107.232.1\n",
      "82.68.222.195\n",
      "62.99.164.82\n",
      "217.187.83.139\n",
      "221.4.102.93\n",
      "211.42.188.206\n",
      "218.69.108.57\n",
      "220.94.205.45\n"
     ]
    }
   ],
   "source": [
    "ftp_connect(\"../../logs/linux_2k.log\", ['ftpd.*connection from.*'])"
   ]
  },
  {
   "cell_type": "markdown",
   "metadata": {
    "pycharm": {
     "name": "#%% md\n"
    }
   },
   "source": [
    "### Klogind Failed Authentications"
   ]
  },
  {
   "cell_type": "code",
   "execution_count": 16,
   "metadata": {
    "pycharm": {
     "name": "#%%\n"
    }
   },
   "outputs": [
    {
     "name": "stdout",
     "output_type": "stream",
     "text": [
      "163.27.187.39\n"
     ]
    }
   ],
   "source": [
    "klogind_failed(\"../../logs/linux_2k.log\", ['klogind.*Authentication failed from.*'])"
   ]
  },
  {
   "cell_type": "markdown",
   "metadata": {
    "pycharm": {
     "name": "#%% md\n"
    }
   },
   "source": [
    "### Authenticated SSH Users"
   ]
  },
  {
   "cell_type": "code",
   "execution_count": 17,
   "metadata": {
    "pycharm": {
     "name": "#%%\n"
    }
   },
   "outputs": [
    {
     "name": "stdout",
     "output_type": "stream",
     "text": [
      "test\n"
     ]
    }
   ],
   "source": [
    "authenticated_ssh_users(\"../../logs/linux_2k.log\", ['sshd\\(pam_unix\\).*session opened for user.*'])"
   ]
  }
 ],
 "metadata": {
  "kernelspec": {
   "display_name": "Python 3 (ipykernel)",
   "language": "python",
   "name": "python3"
  },
  "language_info": {
   "codemirror_mode": {
    "name": "ipython",
    "version": 3
   },
   "file_extension": ".py",
   "mimetype": "text/x-python",
   "name": "python",
   "nbconvert_exporter": "python",
   "pygments_lexer": "ipython3",
   "version": "3.9.7"
  }
 },
 "nbformat": 4,
 "nbformat_minor": 1
}

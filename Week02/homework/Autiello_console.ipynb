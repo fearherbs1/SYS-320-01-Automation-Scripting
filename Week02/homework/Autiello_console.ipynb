{
 "cells": [
  {
   "cell_type": "code",
   "execution_count": 1,
   "outputs": [],
   "source": [
    "# imports\n",
    "from Autiello_apache_log import apache_events\n",
    "from Autiello_proxy_log_open import proxy_events_open\n",
    "from Autiello_proxy_log_close import proxy_events_close\n",
    "# import importlib\n",
    "# reload imports if needed\n",
    "# importlib.reload()"
   ],
   "metadata": {
    "collapsed": false,
    "pycharm": {
     "name": "#%%\n"
    }
   }
  },
  {
   "cell_type": "markdown",
   "source": [
    "# Review System Logs"
   ],
   "metadata": {
    "collapsed": false
   }
  },
  {
   "cell_type": "markdown",
   "source": [
    "## Apache/Proxy Log Events"
   ],
   "metadata": {
    "collapsed": false,
    "pycharm": {
     "name": "#%% md\n"
    }
   }
  },
  {
   "cell_type": "markdown",
   "source": [
    "### QQ Proxy Opened"
   ],
   "metadata": {
    "collapsed": false,
    "pycharm": {
     "name": "#%% md\n"
    }
   }
  },
  {
   "cell_type": "code",
   "execution_count": 2,
   "outputs": [
    {
     "name": "stdout",
     "output_type": "stream",
     "text": [
      "QQ.exe tcpconn6.tencent.com:443 open through proxy proxy.cse.cuhk.edu.hk:5070\n",
      "QQProtectUpd.exe qdun-data.qq.com:443 open through proxy proxy.cse.cuhk.edu.hk:5070\n",
      "QQPlayer.exe btrace.qq.com:80 open through proxy proxy.cse.cuhk.edu.hk:5070\n",
      "QQ.exe tcpconn.tencent.com:80 open through proxy proxy.cse.cuhk.edu.hk:5070\n",
      "QQ.exe 183.60.49.182:443 open through proxy proxy.cse.cuhk.edu.hk:5070\n",
      "QQ.exe tcpconn3.tencent.com:443 open through proxy proxy.cse.cuhk.edu.hk:5070\n",
      "QQ.exe tcpconn6.tencent.com:80 open through proxy proxy.cse.cuhk.edu.hk:5070\n",
      "QQ.exe cgi.qqweb.qq.com:80 open through proxy proxy.cse.cuhk.edu.hk:5070\n"
     ]
    }
   ],
   "source": [
    "proxy_events_open(\"../../logs/Proxifier_2k.log\", \"proxy\", \"qqopen\")"
   ],
   "metadata": {
    "collapsed": false,
    "pycharm": {
     "name": "#%%\n"
    }
   }
  },
  {
   "cell_type": "markdown",
   "source": [
    "### QQ Proxy Data Info"
   ],
   "metadata": {
    "collapsed": false,
    "pycharm": {
     "name": "#%% md\n"
    }
   }
  },
  {
   "cell_type": "code",
   "execution_count": 3,
   "outputs": [
    {
     "name": "stdout",
     "output_type": "stream",
     "text": [
      "QQ.exe tcpconn3.tencent.com:80 0 bytes sent,0 bytes received,\n",
      "QQExternal.exe proxy.cse.cuhk.edu.hk:5070 1644 bytes sent,388 bytes received,\n",
      "QQ.exe qqmail.tencent.com:80 336 bytes sent,2854 bytes received,\n",
      "QQ.exe tcpconn.tencent.com:80 133 bytes sent,0 bytes received,\n",
      "QQProtectUpd.exe qdun-data.qq.com:443 261 bytes sent,70 bytes received,\n",
      "QQ.exe cgi.qqweb.qq.com:80 477 bytes sent,448 bytes received,\n",
      "QQ.exe tcpconn6.tencent.com:80 0 bytes sent,0 bytes received,\n",
      "QQ.exe showxml.qq.com:80 600 bytes sent,1716 bytes received,\n",
      "QQ.exe 2052.flash2-http.qq.com:80 466 bytes sent,125682 bytes received,\n",
      "QQ.exe tcpconn6.tencent.com:443 0 bytes sent,0 bytes received,\n",
      "QQ.exe tcpconn3.tencent.com:443 149 bytes sent,121 bytes received,\n"
     ]
    }
   ],
   "source": [
    "proxy_events_close(\"../../logs/Proxifier_2k.log\", \"proxy\", \"qqdata\")"
   ],
   "metadata": {
    "collapsed": false,
    "pycharm": {
     "name": "#%%\n"
    }
   }
  },
  {
   "cell_type": "markdown",
   "source": [
    "### PHP"
   ],
   "metadata": {
    "collapsed": false,
    "pycharm": {
     "name": "#%% md\n"
    }
   }
  },
  {
   "cell_type": "code",
   "execution_count": 4,
   "outputs": [
    {
     "name": "stdout",
     "output_type": "stream",
     "text": [
      "404 GET /wordpress/wp-login.php\n",
      "404 GET /mediawiki/index.php?title=Main_Page\n"
     ]
    }
   ],
   "source": [
    "apache_events(\"../../logs/access.log\", \"apache\", \"php\")"
   ],
   "metadata": {
    "collapsed": false,
    "pycharm": {
     "name": "#%%\n"
    }
   }
  },
  {
   "cell_type": "markdown",
   "source": [
    "### CGI"
   ],
   "metadata": {
    "collapsed": false,
    "pycharm": {
     "name": "#%% md\n"
    }
   }
  },
  {
   "cell_type": "code",
   "execution_count": 5,
   "outputs": [
    {
     "name": "stdout",
     "output_type": "stream",
     "text": [
      "404 POST /cgi-bin/test-cgi\n",
      "404 GET /cgi-bin/htsearch?Exclude=%60/etc/passwd%60\n",
      "404 GET /cgi-bin/test-cgi\n"
     ]
    }
   ],
   "source": [
    "apache_events(\"../../logs/access.log\", \"apache\", \"cgi\")"
   ],
   "metadata": {
    "collapsed": false,
    "pycharm": {
     "name": "#%%\n"
    }
   }
  }
 ],
 "metadata": {
  "kernelspec": {
   "display_name": "Python 3",
   "language": "python",
   "name": "python3"
  },
  "language_info": {
   "codemirror_mode": {
    "name": "ipython",
    "version": 2
   },
   "file_extension": ".py",
   "mimetype": "text/x-python",
   "name": "python",
   "nbconvert_exporter": "python",
   "pygments_lexer": "ipython2",
   "version": "2.7.6"
  }
 },
 "nbformat": 4,
 "nbformat_minor": 0
}
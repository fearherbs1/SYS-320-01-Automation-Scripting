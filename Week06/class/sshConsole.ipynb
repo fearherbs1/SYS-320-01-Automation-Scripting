{
 "cells": [
  {
   "cell_type": "code",
   "execution_count": 1,
   "outputs": [],
   "source": [
    "import paramiko\n",
    "from getpass import getpass\n",
    "\n",
    "# Create the password prompt\n",
    "thePass = getpass(prompt=\"Please Enter your SSH Password\")\n",
    "\n",
    "# Host Information\n",
    "host = \"184.171.154.24\"\n",
    "port = 22\n",
    "username = \"systest\"\n",
    "password = thePass\n",
    "\n",
    "try:\n",
    "    ssh = paramiko.SSHClient()\n",
    "    ssh.set_missing_host_key_policy(paramiko.AutoAddPolicy())\n",
    "    ssh.connect(host, port, username, password)\n",
    "except paramiko.AuthenticationException:\n",
    "    print(\"Authentication Failed\")"
   ],
   "metadata": {
    "collapsed": false,
    "pycharm": {
     "name": "#%%\n"
    }
   }
  },
  {
   "cell_type": "code",
   "execution_count": 3,
   "outputs": [],
   "source": [
    "# Run a single command\n",
    "#command = \"ps -ef;\"\n",
    "\n",
    "# Run a list of commands\n",
    "command = [\"ps -ef\", \"netstat -an --inet\", \"last -adx\", \"cut -d: -f1 /etc/passwd\"]\n",
    "\n",
    "for eachCMD in command:\n",
    "    # get the output from the command\n",
    "    stdin, stdout, stderr = ssh.exec_command(eachCMD)\n",
    "\n",
    "    # get results from stdout\n",
    "    lines = stdout.readlines()\n",
    "    #print(lines)\n",
    "\n",
    "    # convert the list to a string\n",
    "    output = ''.join(lines)\n",
    "\n",
    "    # header output\n",
    "    sepHeader = '' + '#### Begin ' + eachCMD + ' ####\\n\\n'\n",
    "    sepFooter = '' + '#### End ' + eachCMD + ' ####\\n\\n'\n",
    "\n",
    "\n",
    "    cmd_output = sepHeader + output + sepFooter\n",
    "    #print(cmd_output)\n",
    "\n",
    "    # save command output to file\n",
    "    with open (\"ssh_results.txt\", 'a')  as f:\n",
    "        f.write(cmd_output)"
   ],
   "metadata": {
    "collapsed": false,
    "pycharm": {
     "name": "#%%\n"
    }
   }
  },
  {
   "cell_type": "code",
   "execution_count": 2,
   "outputs": [],
   "source": [
    "\n"
   ],
   "metadata": {
    "collapsed": false,
    "pycharm": {
     "name": "#%%\n"
    }
   }
  }
 ],
 "metadata": {
  "kernelspec": {
   "display_name": "Python 3",
   "language": "python",
   "name": "python3"
  },
  "language_info": {
   "codemirror_mode": {
    "name": "ipython",
    "version": 2
   },
   "file_extension": ".py",
   "mimetype": "text/x-python",
   "name": "python",
   "nbconvert_exporter": "python",
   "pygments_lexer": "ipython2",
   "version": "2.7.6"
  }
 },
 "nbformat": 4,
 "nbformat_minor": 0
}
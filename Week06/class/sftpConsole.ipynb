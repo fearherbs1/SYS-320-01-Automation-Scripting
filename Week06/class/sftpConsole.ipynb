{
 "cells": [
  {
   "cell_type": "code",
   "execution_count": 2,
   "metadata": {
    "collapsed": true
   },
   "outputs": [],
   "source": [
    "import paramiko\n",
    "from getpass import getpass\n",
    "\n",
    "# Create the password prompt\n",
    "thePass = getpass(prompt=\"Please Enter your SSH Password\")\n",
    "\n",
    "# Host Information\n",
    "host = \"184.171.154.24\"\n",
    "port = 22\n",
    "username = \"systest\"\n",
    "password = thePass\n",
    "\n",
    "try:\n",
    "    ssh = paramiko.SSHClient()\n",
    "    ssh.set_missing_host_key_policy(paramiko.AutoAddPolicy())\n",
    "    ssh.connect(host, port, username, password)\n",
    "except paramiko.AuthenticationException:\n",
    "    print(\"Authentication Failed\")"
   ]
  },
  {
   "cell_type": "code",
   "execution_count": 11,
   "outputs": [],
   "source": [
    "# start sftp session\n",
    "\n",
    "sftp = ssh.open_sftp()\n",
    "\n",
    "# list of files to download\n",
    "files = [\"/etc/hosts\", \"/etc/passwd\", \"/var/log/auth.log\"]\n",
    "\n",
    "# loop through all files to download\n",
    "for eachFile in files:\n",
    "\n",
    "    # create a list from the filename\n",
    "    x = eachFile.split(\"/\")\n",
    "\n",
    "    # the -1 plucks the last element in the list\n",
    "    filename = x[-1]\n",
    "\n",
    "    # local path to store files\n",
    "    local_path = \"remote_files/\" + filename\n",
    "    sftp.get(eachFile, local_path)\n",
    "\n",
    "    # put a file on the system:\n",
    "    #sftp.put(LOCALFILE, REMOTESIDE)\n",
    "\n",
    "\n",
    "\n",
    "ssh.close()"
   ],
   "metadata": {
    "collapsed": false,
    "pycharm": {
     "name": "#%%\n"
    }
   }
  },
  {
   "cell_type": "code",
   "execution_count": null,
   "outputs": [],
   "source": [],
   "metadata": {
    "collapsed": false,
    "pycharm": {
     "name": "#%%\n"
    }
   }
  }
 ],
 "metadata": {
  "kernelspec": {
   "display_name": "Python 3",
   "language": "python",
   "name": "python3"
  },
  "language_info": {
   "codemirror_mode": {
    "name": "ipython",
    "version": 2
   },
   "file_extension": ".py",
   "mimetype": "text/x-python",
   "name": "python",
   "nbconvert_exporter": "python",
   "pygments_lexer": "ipython2",
   "version": "2.7.6"
  }
 },
 "nbformat": 4,
 "nbformat_minor": 0
}
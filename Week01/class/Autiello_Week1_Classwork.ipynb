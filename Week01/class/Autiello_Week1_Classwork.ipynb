{
 "cells": [
  {
   "cell_type": "code",
   "execution_count": 74,
   "metadata": {
    "collapsed": true
   },
   "outputs": [],
   "source": [
    "# Create an interface to search through syslog files\n",
    "import re"
   ]
  },
  {
   "cell_type": "code",
   "execution_count": 75,
   "outputs": [],
   "source": [
    "# Open a file\n",
    "with open(\"smallSyslog.log\") as f:\n",
    "    # read file and save it into a variable\n",
    "    contents = f.readlines()"
   ],
   "metadata": {
    "collapsed": false,
    "pycharm": {
     "name": "#%%\n"
    }
   }
  },
  {
   "cell_type": "code",
   "execution_count": 76,
   "outputs": [
    {
     "name": "stdout",
     "output_type": "stream",
     "text": [
      "['Jun 15 02:04:59 combo sshd(pam_unix)[20897]: authentication failure; logname= uid=0 euid=0 tty=NODEVssh ruser= rhost=220-135-151-1.hinet-ip.hinet.net  user=root\\n', 'Jun 15 02:04:59 combo sshd(pam_unix)[20898]: authentication failure; logname= uid=0 euid=0 tty=NODEVssh ruser= rhost=220-135-151-1.hinet-ip.hinet.net  user=root\\n', 'Jun 15 04:06:18 combo su(pam_unix)[21416]: session opened for user cyrus by (uid=0)\\n', 'Jun 15 04:06:19 combo su(pam_unix)[21416]: session closed for user cyrus\\n', 'Jun 15 04:06:20 combo logrotate: ALERT exited abnormally with [1]\\n', 'Jun 15 04:12:42 combo su(pam_unix)[22644]: session opened for user news by (uid=0)\\n', 'Jun 15 04:12:43 combo su(pam_unix)[22644]: session closed for user news\\n', 'Jun 15 12:12:34 combo sshd(pam_unix)[23397]: check pass; user unknown\\n', 'Jun 15 12:12:34 combo sshd(pam_unix)[23397]: authentication failure; logname= uid=0 euid=0 tty=NODEVssh ruser= rhost=218.188.2.4 ']\n"
     ]
    }
   ],
   "source": [
    "print(contents)"
   ],
   "metadata": {
    "collapsed": false,
    "pycharm": {
     "name": "#%%\n"
    }
   }
  },
  {
   "cell_type": "code",
   "execution_count": 77,
   "outputs": [],
   "source": [
    "# a list of keywords to search the log files for\n",
    "keywords = [\"sshd\\(pam_unix\\)\\[[0-9]{3,8}\\]: authentication failure\", \"session opened for user.*\", \"exited abnormally\" ]"
   ],
   "metadata": {
    "collapsed": false,
    "pycharm": {
     "name": "#%%\n"
    }
   }
  },
  {
   "cell_type": "code",
   "execution_count": 78,
   "outputs": [
    {
     "name": "stdout",
     "output_type": "stream",
     "text": [
      "['sshd(pam_unix)[20897]: authentication failure']\n",
      "[]\n",
      "[]\n",
      "['sshd(pam_unix)[20898]: authentication failure']\n",
      "[]\n",
      "[]\n",
      "[]\n",
      "['session opened for user cyrus by (uid=0)']\n",
      "[]\n",
      "[]\n",
      "[]\n",
      "[]\n",
      "[]\n",
      "[]\n",
      "['exited abnormally']\n",
      "[]\n",
      "['session opened for user news by (uid=0)']\n",
      "[]\n",
      "[]\n",
      "[]\n",
      "[]\n",
      "[]\n",
      "[]\n",
      "[]\n",
      "['sshd(pam_unix)[23397]: authentication failure']\n",
      "[]\n",
      "[]\n"
     ]
    }
   ],
   "source": [
    "# Loop through the list of lines returned, each element is a line from the small smallSyslog file\n",
    "for line in contents:\n",
    "    # loops through all of our keywords\n",
    "    for eachKeyword in keywords:\n",
    "        # if the 'line' contains the keyword, then print it out\n",
    "        #if eachKeyword in line:\n",
    "        # searches and returns results using a regex search\n",
    "        x = re.findall(r''+eachKeyword+'', line)\n",
    "        print(x)"
   ],
   "metadata": {
    "collapsed": false,
    "pycharm": {
     "name": "#%%\n"
    }
   }
  }
 ],
 "metadata": {
  "kernelspec": {
   "display_name": "Python 3",
   "language": "python",
   "name": "python3"
  },
  "language_info": {
   "codemirror_mode": {
    "name": "ipython",
    "version": 2
   },
   "file_extension": ".py",
   "mimetype": "text/x-python",
   "name": "python",
   "nbconvert_exporter": "python",
   "pygments_lexer": "ipython2",
   "version": "2.7.6"
  }
 },
 "nbformat": 4,
 "nbformat_minor": 0
}
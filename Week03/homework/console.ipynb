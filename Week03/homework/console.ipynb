{
 "cells": [
  {
   "cell_type": "markdown",
   "metadata": {},
   "source": [
    "# URLHAUS"
   ]
  },
  {
   "cell_type": "code",
   "execution_count": 19,
   "metadata": {},
   "outputs": [
    {
     "data": {
      "text/plain": "<module 'urlHaus' from 'C:\\\\Programming\\\\SYS-320-01-Automation-Scripting\\\\Week03\\\\homework\\\\urlHaus.py'>"
     },
     "execution_count": 19,
     "metadata": {},
     "output_type": "execute_result"
    }
   ],
   "source": [
    "import urlHaus as u\n",
    "import importlib\n",
    "importlib.reload(u)\n"
   ]
  },
  {
   "cell_type": "code",
   "execution_count": 20,
   "metadata": {},
   "outputs": [
    {
     "name": "stdout",
     "output_type": "stream",
     "text": [
      "\n",
      "                    URL: hxxp://103.171.0.134/Registry/.win32.exe\n",
      "                    Info: https://urlhaus.abuse.ch/url/2017874/\n",
      "                    ************************************************************\n",
      "\n",
      "                    URL: hxxp://198.46.132.195/Registry/.win32.exe\n",
      "                    Info: https://urlhaus.abuse.ch/url/2017585/\n",
      "                    ************************************************************\n",
      "\n",
      "                    URL: hxxp://103.89.90.10/Registry/.win32.exe\n",
      "                    Info: https://urlhaus.abuse.ch/url/2017583/\n",
      "                    ************************************************************\n",
      "\n",
      "                    URL: hxxp://103.171.0.134/googleCRC/.win32.exe\n",
      "                    Info: https://urlhaus.abuse.ch/url/2011286/\n",
      "                    ************************************************************\n",
      "\n",
      "                    URL: hxxp://198.46.132.195/googleCRC/.win32.exe\n",
      "                    Info: https://urlhaus.abuse.ch/url/2011284/\n",
      "                    ************************************************************\n",
      "\n",
      "                    URL: hxxp://103.171.0.134/glcouldB2/.win32.exe\n",
      "                    Info: https://urlhaus.abuse.ch/url/2009261/\n",
      "                    ************************************************************\n",
      "\n",
      "                    URL: hxxp://103.171.0.134/couldA9/.win32.exe\n",
      "                    Info: https://urlhaus.abuse.ch/url/2007490/\n",
      "                    ************************************************************\n",
      "\n",
      "                    URL: hxxp://103.89.90.10/couldA9/.win32.exe\n",
      "                    Info: https://urlhaus.abuse.ch/url/2007419/\n",
      "                    ************************************************************\n",
      "\n",
      "                    URL: hxxp://103.114.105.38/gcould/.win32.exe\n",
      "                    Info: https://urlhaus.abuse.ch/url/2004773/\n",
      "                    ************************************************************\n",
      "\n",
      "                    URL: hxxp://103.89.90.10/winos11pro/.win32.exe\n",
      "                    Info: https://urlhaus.abuse.ch/url/2002897/\n",
      "                    ************************************************************\n",
      "\n",
      "                    URL: hxxp://103.89.90.10/googlecould/.win32.exe\n",
      "                    Info: https://urlhaus.abuse.ch/url/2002453/\n",
      "                    ************************************************************\n",
      "\n",
      "                    URL: hxxp://103.114.105.38/googlecould/.win32.exe\n",
      "                    Info: https://urlhaus.abuse.ch/url/2001958/\n",
      "                    ************************************************************\n",
      "\n",
      "                    URL: hxxp://103.114.105.38/intel087(R)/.win32.exe\n",
      "                    Info: https://urlhaus.abuse.ch/url/1995422/\n",
      "                    ************************************************************\n",
      "\n",
      "                    URL: hxxp://103.114.105.38/intel(R)/.win32.exe\n",
      "                    Info: https://urlhaus.abuse.ch/url/1991792/\n",
      "                    ************************************************************\n",
      "\n",
      "                    URL: hxxp://103.89.90.10/intel(R)/.win32.exe\n",
      "                    Info: https://urlhaus.abuse.ch/url/1991789/\n",
      "                    ************************************************************\n",
      "\n",
      "                    URL: hxxp://103.114.105.38/intelpro/.win32.exe\n",
      "                    Info: https://urlhaus.abuse.ch/url/1988914/\n",
      "                    ************************************************************\n",
      "\n",
      "                    URL: hxxp://103.89.90.10/oswindows10pro/.win32.exe\n",
      "                    Info: https://urlhaus.abuse.ch/url/1986851/\n",
      "                    ************************************************************\n",
      "\n",
      "                    URL: hxxp://103.114.105.38/oswindows10pro/.win32.exe\n",
      "                    Info: https://urlhaus.abuse.ch/url/1986850/\n",
      "                    ************************************************************\n",
      "\n",
      "                    URL: hxxp://103.114.105.38/winos11pro/.win32.exe\n",
      "                    Info: https://urlhaus.abuse.ch/url/1983100/\n",
      "                    ************************************************************\n",
      "\n",
      "                    URL: hxxp://103.114.105.38/wwindows8/.win32.exe\n",
      "                    Info: https://urlhaus.abuse.ch/url/1974131/\n",
      "                    ************************************************************\n",
      "\n",
      "                    URL: hxxp://103.114.105.38/windows10/.win32.exe\n",
      "                    Info: https://urlhaus.abuse.ch/url/1966580/\n",
      "                    ************************************************************\n",
      "\n",
      "                    URL: hxxp://103.114.105.38/savecloud2091/.win32.exe\n",
      "                    Info: https://urlhaus.abuse.ch/url/1962738/\n",
      "                    ************************************************************\n"
     ]
    }
   ],
   "source": [
    "u.urlHausOpen('../../logs/urlHaus.csv', [\"\\.win32.exe\"]) # call our function Fix: pass our search term as a list and not a string"
   ]
  }
 ],
 "metadata": {
  "interpreter": {
   "hash": "e849244212d109cc3cb88a1154d46bb16288231cb9cc2770bd078951feabfff8"
  },
  "kernelspec": {
   "display_name": "Python 3.9.6 64-bit",
   "language": "python",
   "name": "python3"
  },
  "language_info": {
   "codemirror_mode": {
    "name": "ipython",
    "version": 3
   },
   "file_extension": ".py",
   "mimetype": "text/x-python",
   "name": "python",
   "nbconvert_exporter": "python",
   "pygments_lexer": "ipython3",
   "version": "3.10.2"
  },
  "orig_nbformat": 4
 },
 "nbformat": 4,
 "nbformat_minor": 2
}